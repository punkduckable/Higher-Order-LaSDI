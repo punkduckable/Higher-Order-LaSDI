{
 "cells": [
  {
   "cell_type": "code",
   "execution_count": 1,
   "id": "d67dad03-9d76-4891-82ff-7e19d1369a24",
   "metadata": {},
   "outputs": [],
   "source": [
    "import  torch\n",
    "import  numpy               as      np\n",
    "from    matplotlib.colors   import  LinearSegmentedColormap\n",
    "import  matplotlib.pyplot   as      plt\n",
    "%matplotlib inline"
   ]
  },
  {
   "cell_type": "markdown",
   "id": "493f4313",
   "metadata": {},
   "source": [
    "# Overall workflow and training\n",
    "\n",
    "Data generation/training can be performed by built-in executable `lasdi`. For this example of Burgers 1D equation, you can simply run on command-line terminal:\n",
    "```\n",
    "lasdi burgers1d.yml\n",
    "```\n",
    "\n",
    "The workflow can be also manually constructed for those who prefer python scripts and for prototyping. Following code snippets show the high-level view of the workflow in the executable `lasdi`."
   ]
  },
  {
   "cell_type": "code",
   "execution_count": 1,
   "id": "1ead8f2d",
   "metadata": {},
   "outputs": [
    {
     "name": "stderr",
     "output_type": "stream",
     "text": [
      "2024-12-26 13:09:52,997 - Initialize:Initialize_Trainer:88 - INFO - Initializing Trainer (gplasdi)\n",
      "2024-12-26 13:09:52,998 - InputParser:__init__:52 - INFO - Initializing InputParser (param_space_input)\n",
      "2024-12-26 13:09:52,998 - Initialize:Initialize_Physics:226 - INFO - Initializing Physics (burgers1d)\n",
      "2024-12-26 13:09:52,998 - InputParser:__init__:52 - INFO - Initializing InputParser (burgers1d_input)\n",
      "2024-12-26 13:09:52,999 - InputParser:getInput:137 - WARNING - InputParser Warning: datatype is not checked.\n",
      " key: ['simulation_time']\n",
      " value type: <class 'float'>\n",
      "2024-12-26 13:09:52,999 - Initialize:Initialize_Model:168 - INFO - Initializing Model (pair)\n",
      "2024-12-26 13:09:52,999 - Model:__init__:592 - INFO - Initializing an Autoencoder_Pair...\n",
      "2024-12-26 13:09:53,000 - Model:__init__:612 - INFO - Initializing the Displacement Autoencoder...\n",
      "2024-12-26 13:09:53,000 - Model:__init__:304 - INFO - Initializing an Autoencoder with latent space dimension 5\n",
      "2024-12-26 13:09:53,000 - Model:__init__:307 - INFO - Initializing the encoder...\n",
      "2024-12-26 13:09:53,002 - Model:__init__:159 - INFO - Initializing a MultiLayerPerceptron with widths [1001, 100, 5], activation tanh, reshape_shape = [1001] (index 0)\n",
      "2024-12-26 13:09:53,002 - Model:__init__:314 - INFO - Initializing the decoder...\n",
      "2024-12-26 13:09:53,003 - Model:__init__:159 - INFO - Initializing a MultiLayerPerceptron with widths [5, 100, 1001], activation tanh, reshape_shape = [1001] (index -1)\n",
      "2024-12-26 13:09:53,003 - Model:__init__:617 - INFO - Initializing the Velocity Autoencoder...\n",
      "2024-12-26 13:09:53,004 - Model:__init__:304 - INFO - Initializing an Autoencoder with latent space dimension 5\n",
      "2024-12-26 13:09:53,004 - Model:__init__:307 - INFO - Initializing the encoder...\n",
      "2024-12-26 13:09:53,005 - Model:__init__:159 - INFO - Initializing a MultiLayerPerceptron with widths [1001, 100, 5], activation tanh, reshape_shape = [1001] (index 0)\n",
      "2024-12-26 13:09:53,005 - Model:__init__:314 - INFO - Initializing the decoder...\n",
      "2024-12-26 13:09:53,006 - Model:__init__:159 - INFO - Initializing a MultiLayerPerceptron with widths [5, 100, 1001], activation tanh, reshape_shape = [1001] (index -1)\n",
      "2024-12-26 13:09:53,006 - InputParser:__init__:52 - INFO - Initializing InputParser (spring_input)\n",
      "2024-12-26 13:09:53,006 - InputParser:getInput:129 - WARNING - <class 'str'> does not match the type with the fallback value <class 'int'>!\n",
      "2024-12-26 13:09:53,007 - InputParser:getInput:130 - WARNING - fallback is 1, val = fro, and keys = ['coef_norm_order']\n",
      "2024-12-26 13:09:53,007 - InputParser:getInput:137 - WARNING - InputParser Warning: datatype is not checked.\n",
      " key: ['coef_norm_order']\n",
      " value type: <class 'str'>\n",
      "2024-12-26 13:09:53,008 - GPLaSDI:__init__:123 - INFO - Initializing a GPLaSDI object\n",
      "2024-12-26 13:09:53,422 - __main__:<module>:44 - INFO - Training with 28000 epochs\n",
      "2024-12-26 13:09:53,422 - Physics:generate_solutions:182 - INFO - Generating 4 samples\n",
      "/Users/stephany1/miniconda3/envs/LaSDI/lib/python3.10/site-packages/scipy/sparse/_index.py:108: SparseEfficiencyWarning: Changing the sparsity structure of a csr_matrix is expensive. lil and dok are more efficient.\n",
      "  self._set_intXint(row, col, x.flat[0])\n",
      "2024-12-26 13:09:53,746 - Physics:generate_solutions:198 - INFO - 1/4 complete\n",
      "2024-12-26 13:09:54,093 - Physics:generate_solutions:198 - INFO - 2/4 complete\n",
      "2024-12-26 13:09:54,441 - Physics:generate_solutions:198 - INFO - 3/4 complete\n",
      "2024-12-26 13:09:54,808 - Physics:generate_solutions:198 - INFO - 4/4 complete\n",
      "2024-12-26 13:09:54,809 - Physics:generate_solutions:182 - INFO - Generating 25 samples\n",
      "2024-12-26 13:09:55,174 - Physics:generate_solutions:198 - INFO - 1/25 complete\n",
      "2024-12-26 13:09:55,532 - Physics:generate_solutions:198 - INFO - 2/25 complete\n",
      "2024-12-26 13:09:55,891 - Physics:generate_solutions:198 - INFO - 3/25 complete\n",
      "2024-12-26 13:09:56,269 - Physics:generate_solutions:198 - INFO - 4/25 complete\n",
      "2024-12-26 13:09:56,643 - Physics:generate_solutions:198 - INFO - 5/25 complete\n",
      "2024-12-26 13:09:57,008 - Physics:generate_solutions:198 - INFO - 6/25 complete\n",
      "2024-12-26 13:09:57,375 - Physics:generate_solutions:198 - INFO - 7/25 complete\n",
      "2024-12-26 13:09:57,754 - Physics:generate_solutions:198 - INFO - 8/25 complete\n",
      "2024-12-26 13:09:58,131 - Physics:generate_solutions:198 - INFO - 9/25 complete\n",
      "2024-12-26 13:09:58,516 - Physics:generate_solutions:198 - INFO - 10/25 complete\n",
      "2024-12-26 13:09:58,900 - Physics:generate_solutions:198 - INFO - 11/25 complete\n",
      "2024-12-26 13:09:59,280 - Physics:generate_solutions:198 - INFO - 12/25 complete\n",
      "2024-12-26 13:09:59,666 - Physics:generate_solutions:198 - INFO - 13/25 complete\n",
      "2024-12-26 13:10:00,060 - Physics:generate_solutions:198 - INFO - 14/25 complete\n",
      "2024-12-26 13:10:00,451 - Physics:generate_solutions:198 - INFO - 15/25 complete\n",
      "2024-12-26 13:10:00,835 - Physics:generate_solutions:198 - INFO - 16/25 complete\n",
      "2024-12-26 13:10:01,224 - Physics:generate_solutions:198 - INFO - 17/25 complete\n",
      "2024-12-26 13:10:01,594 - Physics:generate_solutions:198 - INFO - 18/25 complete\n",
      "2024-12-26 13:10:01,976 - Physics:generate_solutions:198 - INFO - 19/25 complete\n",
      "2024-12-26 13:10:02,375 - Physics:generate_solutions:198 - INFO - 20/25 complete\n",
      "2024-12-26 13:10:02,781 - Physics:generate_solutions:198 - INFO - 21/25 complete\n",
      "2024-12-26 13:10:03,155 - Physics:generate_solutions:198 - INFO - 22/25 complete\n",
      "2024-12-26 13:10:03,561 - Physics:generate_solutions:198 - INFO - 23/25 complete\n",
      "2024-12-26 13:10:03,968 - Physics:generate_solutions:198 - INFO - 24/25 complete\n",
      "2024-12-26 13:10:04,350 - Physics:generate_solutions:198 - INFO - 25/25 complete\n",
      "2024-12-26 13:10:04,351 - GPLaSDI:train:232 - INFO - Training for 50 epochs (starting at 0, going to 50)\n"
     ]
    },
    {
     "name": "stdout",
     "output_type": "stream",
     "text": [
      "derivative = 0.000231, cat = 0.000045, lstsq = 0.000187, loss = 0.000079, total = 0.000541\n",
      "derivative = 0.000205, cat = 0.000016, lstsq = 0.000096, loss = 0.000046, total = 0.000364\n",
      "derivative = 0.000175, cat = 0.000013, lstsq = 0.000083, loss = 0.000037, total = 0.000308\n",
      "derivative = 0.000190, cat = 0.000013, lstsq = 0.000081, loss = 0.000033, total = 0.000317\n"
     ]
    },
    {
     "ename": "TypeError",
     "evalue": "Logger._log() got an unexpected keyword argument 'end'",
     "output_type": "error",
     "traceback": [
      "\u001b[0;31m---------------------------------------------------------------------------\u001b[0m",
      "\u001b[0;31mTypeError\u001b[0m                                 Traceback (most recent call last)",
      "Cell \u001b[0;32mIn[1], line 51\u001b[0m\n\u001b[1;32m     48\u001b[0m Run_Samples(trainer, config);\n\u001b[1;32m     50\u001b[0m \u001b[38;5;66;03m# initial training given training data\u001b[39;00m\n\u001b[0;32m---> 51\u001b[0m \u001b[43mtrainer\u001b[49m\u001b[38;5;241;43m.\u001b[39;49m\u001b[43mtrain\u001b[49m\u001b[43m(\u001b[49m\u001b[43m)\u001b[49m;\n\u001b[1;32m     53\u001b[0m \u001b[38;5;28;01mwhile\u001b[39;00m (trainer\u001b[38;5;241m.\u001b[39mrestart_iter \u001b[38;5;241m<\u001b[39m trainer\u001b[38;5;241m.\u001b[39mmax_iter):\n\u001b[1;32m     54\u001b[0m     \u001b[38;5;28;01mif\u001b[39;00m (trainer\u001b[38;5;241m.\u001b[39mrestart_iter \u001b[38;5;241m<\u001b[39m\u001b[38;5;241m=\u001b[39m trainer\u001b[38;5;241m.\u001b[39mmax_greedy_iter):\n\u001b[1;32m     55\u001b[0m         \u001b[38;5;66;03m# perform greedy sampling to pick up new samples\u001b[39;00m\n",
      "File \u001b[0;32m~/Documents/Projects/Second Order LaSDI/src/GPLaSDI.py:307\u001b[0m, in \u001b[0;36mBayesianGLaSDI.train\u001b[0;34m(self)\u001b[0m\n\u001b[1;32m    301\u001b[0m     \u001b[38;5;28mself\u001b[39m\u001b[38;5;241m.\u001b[39mbest_loss      : \u001b[38;5;28mfloat\u001b[39m             \u001b[38;5;241m=\u001b[39m loss\u001b[38;5;241m.\u001b[39mitem();\n\u001b[1;32m    303\u001b[0m \u001b[38;5;66;03m# -------------------------------------------------------------------------------------\u001b[39;00m\n\u001b[1;32m    304\u001b[0m \u001b[38;5;66;03m# Report Results from this iteration \u001b[39;00m\n\u001b[1;32m    305\u001b[0m \n\u001b[1;32m    306\u001b[0m \u001b[38;5;66;03m# Report the current iteration number and losses\u001b[39;00m\n\u001b[0;32m--> 307\u001b[0m \u001b[43mLOGGER\u001b[49m\u001b[38;5;241;43m.\u001b[39;49m\u001b[43minfo\u001b[49m\u001b[43m(\u001b[49m\u001b[38;5;124;43m\"\u001b[39;49m\u001b[38;5;124;43mIter: \u001b[39;49m\u001b[38;5;132;43;01m%05d\u001b[39;49;00m\u001b[38;5;124;43m/\u001b[39;49m\u001b[38;5;132;43;01m%d\u001b[39;49;00m\u001b[38;5;124;43m, Loss: \u001b[39;49m\u001b[38;5;132;43;01m%3.10f\u001b[39;49;00m\u001b[38;5;124;43m, Loss AE: \u001b[39;49m\u001b[38;5;132;43;01m%3.10f\u001b[39;49;00m\u001b[38;5;124;43m, Loss LD: \u001b[39;49m\u001b[38;5;132;43;01m%3.10f\u001b[39;49;00m\u001b[38;5;124;43m, Loss COEF: \u001b[39;49m\u001b[38;5;132;43;01m%3.10f\u001b[39;49;00m\u001b[38;5;124;43m, max|c|: \u001b[39;49m\u001b[38;5;132;43;01m%04.1f\u001b[39;49;00m\u001b[38;5;124;43m, \u001b[39;49m\u001b[38;5;124;43m\"\u001b[39;49m\n\u001b[1;32m    308\u001b[0m \u001b[43m            \u001b[49m\u001b[38;5;241;43m%\u001b[39;49m\u001b[43m \u001b[49m\u001b[43m(\u001b[49m\u001b[38;5;28;43miter\u001b[39;49m\u001b[43m \u001b[49m\u001b[38;5;241;43m+\u001b[39;49m\u001b[43m \u001b[49m\u001b[38;5;241;43m1\u001b[39;49m\u001b[43m,\u001b[49m\u001b[43m \u001b[49m\u001b[38;5;28;43mself\u001b[39;49m\u001b[38;5;241;43m.\u001b[39;49m\u001b[43mmax_iter\u001b[49m\u001b[43m,\u001b[49m\u001b[43m \u001b[49m\u001b[43mloss\u001b[49m\u001b[38;5;241;43m.\u001b[39;49m\u001b[43mitem\u001b[49m\u001b[43m(\u001b[49m\u001b[43m)\u001b[49m\u001b[43m,\u001b[49m\u001b[43m \u001b[49m\u001b[43mloss_recon\u001b[49m\u001b[38;5;241;43m.\u001b[39;49m\u001b[43mitem\u001b[49m\u001b[43m(\u001b[49m\u001b[43m)\u001b[49m\u001b[43m,\u001b[49m\u001b[43m \u001b[49m\u001b[43mloss_ld\u001b[49m\u001b[38;5;241;43m.\u001b[39;49m\u001b[43mitem\u001b[49m\u001b[43m(\u001b[49m\u001b[43m)\u001b[49m\u001b[43m,\u001b[49m\u001b[43m \u001b[49m\u001b[43mloss_coef\u001b[49m\u001b[38;5;241;43m.\u001b[39;49m\u001b[43mitem\u001b[49m\u001b[43m(\u001b[49m\u001b[43m)\u001b[49m\u001b[43m,\u001b[49m\u001b[43m \u001b[49m\u001b[43mmax_coef\u001b[49m\u001b[43m)\u001b[49m\u001b[43m,\u001b[49m\n\u001b[1;32m    309\u001b[0m \u001b[43m            \u001b[49m\u001b[43mend\u001b[49m\u001b[43m \u001b[49m\u001b[38;5;241;43m=\u001b[39;49m\u001b[43m \u001b[49m\u001b[38;5;124;43m'\u001b[39;49m\u001b[38;5;124;43m'\u001b[39;49m\u001b[43m)\u001b[49m\n\u001b[1;32m    311\u001b[0m \u001b[38;5;66;03m# If there are fewer than 6 training examples, report the set of parameter combinations.\u001b[39;00m\n\u001b[1;32m    312\u001b[0m \u001b[38;5;28;01mif\u001b[39;00m n_train \u001b[38;5;241m<\u001b[39m \u001b[38;5;241m6\u001b[39m:\n",
      "File \u001b[0;32m~/miniconda3/envs/LaSDI/lib/python3.10/logging/__init__.py:1477\u001b[0m, in \u001b[0;36mLogger.info\u001b[0;34m(self, msg, *args, **kwargs)\u001b[0m\n\u001b[1;32m   1468\u001b[0m \u001b[38;5;250m\u001b[39m\u001b[38;5;124;03m\"\"\"\u001b[39;00m\n\u001b[1;32m   1469\u001b[0m \u001b[38;5;124;03mLog 'msg % args' with severity 'INFO'.\u001b[39;00m\n\u001b[1;32m   1470\u001b[0m \n\u001b[0;32m   (...)\u001b[0m\n\u001b[1;32m   1474\u001b[0m \u001b[38;5;124;03mlogger.info(\"Houston, we have a %s\", \"interesting problem\", exc_info=1)\u001b[39;00m\n\u001b[1;32m   1475\u001b[0m \u001b[38;5;124;03m\"\"\"\u001b[39;00m\n\u001b[1;32m   1476\u001b[0m \u001b[38;5;28;01mif\u001b[39;00m \u001b[38;5;28mself\u001b[39m\u001b[38;5;241m.\u001b[39misEnabledFor(INFO):\n\u001b[0;32m-> 1477\u001b[0m     \u001b[38;5;28;43mself\u001b[39;49m\u001b[38;5;241;43m.\u001b[39;49m\u001b[43m_log\u001b[49m\u001b[43m(\u001b[49m\u001b[43mINFO\u001b[49m\u001b[43m,\u001b[49m\u001b[43m \u001b[49m\u001b[43mmsg\u001b[49m\u001b[43m,\u001b[49m\u001b[43m \u001b[49m\u001b[43margs\u001b[49m\u001b[43m,\u001b[49m\u001b[43m \u001b[49m\u001b[38;5;241;43m*\u001b[39;49m\u001b[38;5;241;43m*\u001b[39;49m\u001b[43mkwargs\u001b[49m\u001b[43m)\u001b[49m\n",
      "\u001b[0;31mTypeError\u001b[0m: Logger._log() got an unexpected keyword argument 'end'"
     ]
    }
   ],
   "source": [
    "# -------------------------------------------------------------------------------------------------\n",
    "# Imports \n",
    "# -------------------------------------------------------------------------------------------------\n",
    "\n",
    "import  os;\n",
    "import  sys;\n",
    "src_path    : str = os.path.join(os.path.abspath(os.path.pardir), \"src\");\n",
    "utils_path  : str = os.path.join(src_path, \"Utilities\");\n",
    "sys.path.append(src_path);\n",
    "sys.path.append(utils_path);\n",
    "\n",
    "import  yaml;\n",
    "import  logging;\n",
    "\n",
    "from    Sample      import  Run_Samples, Pick_Samples;\n",
    "from    Initialize  import  Initialize_Trainer;\n",
    "from    Logging     import  Initialize_Logger, Log_Dictionary;\n",
    "\n",
    "\n",
    "\n",
    "# -------------------------------------------------------------------------------------------------\n",
    "# Setup\n",
    "# -------------------------------------------------------------------------------------------------\n",
    "\n",
    "# Set up the logger\n",
    "Initialize_Logger(logging.INFO);\n",
    "LOGGER  : logging.Logger    = logging.getLogger(__name__);\n",
    "\n",
    "# Load the configuration.\n",
    "cfg_file : str = 'burgers1d.yml';\n",
    "with open(cfg_file, 'r') as f:\n",
    "    config : dict = yaml.safe_load(f);\n",
    "Log_Dictionary(LOGGER = LOGGER, D = config, level = logging.DEBUG);\n",
    "\n",
    "# Setup the trainer\n",
    "trainer, param_space, physics, autoencoder, sindy = Initialize_Trainer(config);\n",
    "\n",
    "\n",
    "\n",
    "# -------------------------------------------------------------------------------------------------\n",
    "# Train\n",
    "# -------------------------------------------------------------------------------------------------\n",
    "\n",
    "LOGGER.info(\"Training with %d epochs\" % trainer.max_iter);\n",
    "\n",
    "# generate initial training/test data\n",
    "Pick_Samples(trainer, config);\n",
    "Run_Samples(trainer, config);\n",
    "\n",
    "# initial training given training data\n",
    "trainer.train();\n",
    "\n",
    "while (trainer.restart_iter < trainer.max_iter):\n",
    "    if (trainer.restart_iter <= trainer.max_greedy_iter):\n",
    "        # perform greedy sampling to pick up new samples\n",
    "        Pick_Samples(trainer, config);\n",
    "        # update training data with newly picked samples\n",
    "        Run_Samples(trainer, config);\n",
    "\n",
    "    # train over given training data\n",
    "    trainer.train();"
   ]
  },
  {
   "cell_type": "markdown",
   "id": "cfffced1",
   "metadata": {},
   "source": [
    "If you ran the command instead, a restart file is saved at the end of the training, which can be loaded for post-processing:"
   ]
  },
  {
   "cell_type": "code",
   "execution_count": null,
   "id": "b4966aa0",
   "metadata": {},
   "outputs": [],
   "source": [
    "# Add src directory to the search path\n",
    "import  os;\n",
    "import  sys;\n",
    "src_path    : str = os.path.join(os.path.abspath(os.path.pardir), \"src\");\n",
    "sys.path.append(src_path);\n",
    "\n",
    "import  yaml\n",
    "from    ParameterSpace  import  ParameterSpace;\n",
    "from    Initialize      import  Initialize_Trainer;\n",
    "\n",
    "# Specify the restart file you have.\n",
    "filename = 'lasdi_10_01_2024_17_09.npy'\n",
    "\n",
    "cfg_file = 'burgers1d.yml'\n",
    "with open(cfg_file, 'r') as f:\n",
    "    config = yaml.safe_load(f)\n",
    "\n",
    "restart_file = np.load(filename, allow_pickle=True).item()\n",
    "\n",
    "trainer, param_space, physics, autoencoder, sindy = Initialize_Trainer(config, restart_file)"
   ]
  },
  {
   "cell_type": "markdown",
   "id": "42758da9",
   "metadata": {},
   "source": [
    "# Post-processing"
   ]
  },
  {
   "cell_type": "markdown",
   "id": "0cf48489",
   "metadata": {},
   "source": [
    "Load data for post-processing:"
   ]
  },
  {
   "cell_type": "code",
   "execution_count": 5,
   "id": "dcdac0c2",
   "metadata": {},
   "outputs": [],
   "source": [
    "coefs = trainer.best_coefs\n",
    "X_Train = trainer.X_Train\n",
    "X_Test = trainer.X_Test\n",
    "\n",
    "param_train = param_space.train_space\n",
    "param_grid = param_space.test_space\n",
    "test_meshgrid = param_space.test_meshgrid\n",
    "test_grid_sizes = param_space.test_grid_sizes\n",
    "n_init = param_space.n_init\n",
    "\n",
    "n_a_grid, n_w_grid = test_grid_sizes\n",
    "a_grid, w_grid = test_meshgrid\n",
    "\n",
    "t_grid = physics.t_grid\n",
    "x_grid = physics.x_grid\n",
    "t_mesh, x_mesh = np.meshgrid(t_grid, x_grid)\n",
    "Dt, Dx = physics.dt, physics.dx\n",
    "\n",
    "time_dim, space_dim = t_grid.shape[0], x_grid.shape[0]\n",
    "\n",
    "n_coef = sindy.ncoefs"
   ]
  },
  {
   "cell_type": "markdown",
   "id": "c2b6e720",
   "metadata": {},
   "source": [
    "They can be also loaded directly from restart file:"
   ]
  },
  {
   "cell_type": "code",
   "execution_count": null,
   "id": "e796b0bc",
   "metadata": {},
   "outputs": [],
   "source": [
    "coefs = restart_file['trainer']['best_coefs']\n",
    "X_Train = restart_file['trainer']['X_Train']\n",
    "X_Test = restart_file['trainer']['X_Test']\n",
    "\n",
    "paramspace_dict = restart_file['parameters']\n",
    "param_train = paramspace_dict['train_space']\n",
    "param_grid = paramspace_dict['test_space']\n",
    "test_meshgrid = paramspace_dict['test_meshgrid']\n",
    "test_grid_sizes = paramspace_dict['test_grid_sizes']\n",
    "n_init = paramspace_dict['n_init']\n",
    "\n",
    "n_a_grid, n_w_grid = test_grid_sizes\n",
    "a_grid, w_grid = test_meshgrid\n",
    "\n",
    "physics_dict = restart_file['physics']\n",
    "t_grid = physics_dict['t_grid']\n",
    "x_grid = physics_dict['x_grid']\n",
    "t_mesh, x_mesh = np.meshgrid(t_grid, x_grid)\n",
    "Dt = physics_dict['dt']\n",
    "Dx = physics_dict['dx']\n",
    "\n",
    "time_dim, space_dim = t_grid.shape[0], x_grid.shape[0]\n",
    "n_coef = restart_file['latent_dynamics']['ncoefs']"
   ]
  },
  {
   "cell_type": "markdown",
   "id": "1262a0c3",
   "metadata": {},
   "source": [
    "## Gaussian-process uncertainty evaluation\n",
    "We evaluated the uncertainties of latent dynamics coefficients over 2d parameter space, with samples from GP prediction:"
   ]
  },
  {
   "cell_type": "code",
   "execution_count": null,
   "id": "ef6a1685",
   "metadata": {},
   "outputs": [],
   "source": [
    "from GaussianProcess        import  fit_gps, eval_gp\n",
    "from Simulate               import  sample_roms, average_rom\n",
    "from lasdi.postprocess      import  compute_errors\n",
    "\n",
    "n_samples = 20\n",
    "autoencoder.cpu()\n",
    "\n",
    "gp_dictionnary = fit_gps(param_space.train_space, coefs)\n",
    "\n",
    "Zis_samples = sample_roms(autoencoder, physics, sindy, gp_dictionnary, param_grid, n_samples)\n",
    "Zis_mean = average_rom(autoencoder, physics, sindy, gp_dictionnary, param_grid)\n",
    "\n",
    "X_pred_mean = autoencoder.decoder(torch.Tensor(Zis_mean)).detach().numpy()\n",
    "X_pred_samples = autoencoder.decoder(torch.Tensor(Zis_samples)).detach().numpy()\n",
    "\n",
    "avg_rel_error = np.zeros(param_grid.shape[0])\n",
    "for k in range(param_grid.shape[0]):\n",
    "    avg_rel_error[k], _ = compute_errors(X_pred_mean[k], physics, X_Test[k].numpy())\n",
    "\n",
    "max_std = np.zeros(param_grid.shape[0])\n",
    "for k in range(param_grid.shape[0]):\n",
    "    max_std[k] = X_pred_samples[k].std(0).max()\n",
    "\n",
    "avg_rel_error = avg_rel_error.reshape([n_w_grid, n_a_grid]).T\n",
    "max_std = max_std.reshape([n_w_grid, n_a_grid]).T\n",
    "\n",
    "gp_pred_mean, gp_pred_std = eval_gp(gp_dictionnary, param_grid)"
   ]
  },
  {
   "cell_type": "markdown",
   "id": "2f31c964",
   "metadata": {},
   "source": [
    "# Visualization"
   ]
  },
  {
   "cell_type": "markdown",
   "id": "389cdfb3",
   "metadata": {},
   "source": [
    "Plot mean and standard deviation of coefficient matrix.\n",
    "For SINDy of dimension 5, the coefficient matrix has a shape of (6, 5)."
   ]
  },
  {
   "cell_type": "code",
   "execution_count": null,
   "id": "1e33b2af",
   "metadata": {},
   "outputs": [],
   "source": [
    "from lasdi.postprocess import plot_gp2d\n",
    "\n",
    "plot_gp2d(a_grid, w_grid, gp_pred_mean.reshape([n_a_grid, n_w_grid, -1]), gp_pred_std.reshape([n_a_grid, n_w_grid, -1]),\n",
    "          param_train, param_labels=['a', 'w'], plot_shape=[6, 5])"
   ]
  },
  {
   "cell_type": "code",
   "execution_count": null,
   "id": "a6073807",
   "metadata": {},
   "outputs": [],
   "source": [
    "from lasdi.postprocess import heatmap2d\n",
    "\n",
    "heatmap2d(avg_rel_error * 100, a_grid[:, 0], w_grid[0], param_train, 4, param_labels=['a', 'w'], title='GPLaSDI')"
   ]
  },
  {
   "cell_type": "code",
   "execution_count": null,
   "id": "97720b74",
   "metadata": {},
   "outputs": [],
   "source": [
    "heatmap2d(max_std * 100, a_grid[:, 0], w_grid[0], param_train, 4, param_labels=['a', 'w'], title=r'max$_{(t,x)}\\sqrt{V[\\tilde{u}_{\\xi^*}]}$   ($\\times10^{-2}$)')"
   ]
  },
  {
   "cell_type": "code",
   "execution_count": null,
   "id": "d79c7cc2",
   "metadata": {},
   "outputs": [],
   "source": [
    "from lasdi.postprocess import plot_prediction\n",
    "\n",
    "a, w = 0.9, 1.07\n",
    "param = np.array([[a, w]])\n",
    "true = physics.solve(param[0])\n",
    "true = true.detach().numpy().reshape([physics.grid_size[0], physics.nt]).T\n",
    "scale = 1\n",
    "\n",
    "Z = sample_roms(autoencoder, physics, sindy, gp_dictionnary, param, n_samples)\n",
    "\n",
    "Z_mean = Z[0].mean(0)\n",
    "Z_std = Z[0].std(0)\n",
    "\n",
    "pred = autoencoder.decoder(torch.Tensor(Z)).detach().numpy()\n",
    "pred_std = pred[0].std(0)\n",
    "\n",
    "plot_prediction(param, autoencoder, physics, sindy, gp_dictionnary, n_samples, true, scale)"
   ]
  },
  {
   "cell_type": "code",
   "execution_count": null,
   "id": "11c629e4",
   "metadata": {},
   "outputs": [],
   "source": []
  }
 ],
 "metadata": {
  "kernelspec": {
   "display_name": "LaSDI",
   "language": "python",
   "name": "python3"
  },
  "language_info": {
   "codemirror_mode": {
    "name": "ipython",
    "version": 3
   },
   "file_extension": ".py",
   "mimetype": "text/x-python",
   "name": "python",
   "nbconvert_exporter": "python",
   "pygments_lexer": "ipython3",
   "version": "3.10.16"
  }
 },
 "nbformat": 4,
 "nbformat_minor": 5
}
